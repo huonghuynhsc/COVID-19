{
 "cells": [
  {
   "cell_type": "code",
   "execution_count": 1,
   "metadata": {},
   "outputs": [],
   "source": [
    "from cal_accuracy import get_data_ihme, get_data_aipert\n",
    "from cal_accuracy import mean_absolute_percentage_error\n",
    "from cal_accuracy import compare_result"
   ]
  },
  {
   "cell_type": "code",
   "execution_count": 2,
   "metadata": {
    "scrolled": true
   },
   "outputs": [
    {
     "name": "stderr",
     "output_type": "stream",
     "text": [
      "/Users/huong/Documents/streamlitCovid19/COVID-19/prognosis/cal_accuracy.py:12: UserWarning: Boolean Series key will be reindexed to match DataFrame index.\n",
      "  output_ihme_us =  output_ihme_us[output_ihme['date'] < str(datetime.now() - timedelta(days=2))]\n",
      "/Users/huong/Documents/streamlitCovid19/COVID-19/prognosis/cal_accuracy.py:26: UserWarning: Boolean Series key will be reindexed to match DataFrame index.\n",
      "  str(datetime.now() - timedelta(days=1))]\n",
      "/Users/huong/Documents/streamlitCovid19/COVID-19/prognosis/cal_accuracy.py:31: UserWarning: Boolean Series key will be reindexed to match DataFrame index.\n",
      "  str(datetime.now() - timedelta(days=1))]\n"
     ]
    }
   ],
   "source": [
    "output_ihme = get_data_ihme(last_data_date = '2020-04-17')\n",
    "output_aipert_daily, aipert_cumulative = get_data_aipert(last_data_date = '2020-04-17')"
   ]
  },
  {
   "cell_type": "code",
   "execution_count": 3,
   "metadata": {},
   "outputs": [
    {
     "data": {
      "text/html": [
       "<div>\n",
       "<style scoped>\n",
       "    .dataframe tbody tr th:only-of-type {\n",
       "        vertical-align: middle;\n",
       "    }\n",
       "\n",
       "    .dataframe tbody tr th {\n",
       "        vertical-align: top;\n",
       "    }\n",
       "\n",
       "    .dataframe thead th {\n",
       "        text-align: right;\n",
       "    }\n",
       "</style>\n",
       "<table border=\"1\" class=\"dataframe\">\n",
       "  <thead>\n",
       "    <tr style=\"text-align: right;\">\n",
       "      <th></th>\n",
       "      <th>Model</th>\n",
       "      <th>MAPE_daily</th>\n",
       "      <th>MAPE_cumulative</th>\n",
       "    </tr>\n",
       "  </thead>\n",
       "  <tbody>\n",
       "    <tr>\n",
       "      <th>0</th>\n",
       "      <td>aipert</td>\n",
       "      <td>36.544118</td>\n",
       "      <td>11.372859</td>\n",
       "    </tr>\n",
       "    <tr>\n",
       "      <th>1</th>\n",
       "      <td>ihme</td>\n",
       "      <td>76.933665</td>\n",
       "      <td>24.256178</td>\n",
       "    </tr>\n",
       "  </tbody>\n",
       "</table>\n",
       "</div>"
      ],
      "text/plain": [
       "    Model  MAPE_daily  MAPE_cumulative\n",
       "0  aipert   36.544118        11.372859\n",
       "1    ihme   76.933665        24.256178"
      ]
     },
     "execution_count": 3,
     "metadata": {},
     "output_type": "execute_result"
    }
   ],
   "source": [
    "result = compare_result(output_aipert_daily, aipert_cumulative, output_ihme, ['aipert','ihme'])\n",
    "result"
   ]
  }
 ],
 "metadata": {
  "kernelspec": {
   "display_name": "Python 3",
   "language": "python",
   "name": "python3"
  },
  "language_info": {
   "codemirror_mode": {
    "name": "ipython",
    "version": 3
   },
   "file_extension": ".py",
   "mimetype": "text/x-python",
   "name": "python",
   "nbconvert_exporter": "python",
   "pygments_lexer": "ipython3",
   "version": "3.7.3"
  }
 },
 "nbformat": 4,
 "nbformat_minor": 2
}
